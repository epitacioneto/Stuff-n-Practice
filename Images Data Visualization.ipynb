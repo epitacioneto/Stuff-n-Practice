{
 "cells": [
  {
   "cell_type": "markdown",
   "id": "50deb00d",
   "metadata": {},
   "source": [
    "Este notebook tem, como intuito, analisar características e desempenho dos modelos utilizados pelo grupo de CV (Computer Vision) na 3ª rotação da [TAIL](https://github.com/TailUFPB). Esses modelos serão utilizados para criação de um jogo, onde temos um texto, escrito por um usuário, e convertido para uma imagem. Mais informações sobre o projeto serão colocadas, neste notebook, posteriormente."
   ]
  },
  {
   "cell_type": "markdown",
   "id": "8ce7e1ad",
   "metadata": {},
   "source": [
    "# Bibliotecas"
   ]
  },
  {
   "cell_type": "code",
   "execution_count": 1,
   "id": "b3f85f26",
   "metadata": {},
   "outputs": [],
   "source": [
    "import matplotlib.pyplot as plt\n",
    "from datetime import datetime\n",
    "import pandas as pd"
   ]
  },
  {
   "cell_type": "markdown",
   "id": "ee71fe88",
   "metadata": {},
   "source": [
    "# Leitura e checagem da planilha"
   ]
  },
  {
   "cell_type": "code",
   "execution_count": 2,
   "id": "ffe25683",
   "metadata": {},
   "outputs": [],
   "source": [
    "df = pd.read_excel('images-data.xlsx')"
   ]
  },
  {
   "cell_type": "code",
   "execution_count": 3,
   "id": "9cc55b5e",
   "metadata": {},
   "outputs": [
    {
     "data": {
      "text/plain": [
       "Text Input                   object\n",
       "Model                        object\n",
       "No. of Iterations           float64\n",
       "No. of Epochs               float64\n",
       "Execution Time       datetime64[ns]\n",
       "No. of Layers               float64\n",
       "Result                        int64\n",
       "dtype: object"
      ]
     },
     "execution_count": 3,
     "metadata": {},
     "output_type": "execute_result"
    }
   ],
   "source": [
    "df.dtypes"
   ]
  },
  {
   "cell_type": "code",
   "execution_count": 4,
   "id": "2e621522",
   "metadata": {},
   "outputs": [
    {
     "data": {
      "text/html": [
       "<div>\n",
       "<style scoped>\n",
       "    .dataframe tbody tr th:only-of-type {\n",
       "        vertical-align: middle;\n",
       "    }\n",
       "\n",
       "    .dataframe tbody tr th {\n",
       "        vertical-align: top;\n",
       "    }\n",
       "\n",
       "    .dataframe thead th {\n",
       "        text-align: right;\n",
       "    }\n",
       "</style>\n",
       "<table border=\"1\" class=\"dataframe\">\n",
       "  <thead>\n",
       "    <tr style=\"text-align: right;\">\n",
       "      <th></th>\n",
       "      <th>Text Input</th>\n",
       "      <th>Model</th>\n",
       "      <th>No. of Iterations</th>\n",
       "      <th>No. of Epochs</th>\n",
       "      <th>Execution Time</th>\n",
       "      <th>No. of Layers</th>\n",
       "      <th>Result</th>\n",
       "    </tr>\n",
       "  </thead>\n",
       "  <tbody>\n",
       "    <tr>\n",
       "      <th>0</th>\n",
       "      <td>\"brazil 7-1\"</td>\n",
       "      <td>Big Sleep</td>\n",
       "      <td>417.0</td>\n",
       "      <td>NaN</td>\n",
       "      <td>2018-02-20 00:41:45</td>\n",
       "      <td>NaN</td>\n",
       "      <td>1</td>\n",
       "    </tr>\n",
       "    <tr>\n",
       "      <th>1</th>\n",
       "      <td>\"seal swimming\"</td>\n",
       "      <td>Big Sleep</td>\n",
       "      <td>634.0</td>\n",
       "      <td>NaN</td>\n",
       "      <td>2018-02-20 01:02:45</td>\n",
       "      <td>NaN</td>\n",
       "      <td>3</td>\n",
       "    </tr>\n",
       "    <tr>\n",
       "      <th>2</th>\n",
       "      <td>\"jake paul vs tyron woodley</td>\n",
       "      <td>Big Sleep</td>\n",
       "      <td>397.0</td>\n",
       "      <td>NaN</td>\n",
       "      <td>2018-02-20 00:39:16</td>\n",
       "      <td>NaN</td>\n",
       "      <td>1</td>\n",
       "    </tr>\n",
       "    <tr>\n",
       "      <th>3</th>\n",
       "      <td>\"cristiano ronaldo dancing\"</td>\n",
       "      <td>Deep Daze</td>\n",
       "      <td>542.0</td>\n",
       "      <td>0.0</td>\n",
       "      <td>2018-02-20 02:24:10</td>\n",
       "      <td>32.0</td>\n",
       "      <td>2</td>\n",
       "    </tr>\n",
       "    <tr>\n",
       "      <th>4</th>\n",
       "      <td>\"a samurai training\"</td>\n",
       "      <td>Deep Daze</td>\n",
       "      <td>121.0</td>\n",
       "      <td>0.0</td>\n",
       "      <td>2018-02-20 00:24:38</td>\n",
       "      <td>24.0</td>\n",
       "      <td>4</td>\n",
       "    </tr>\n",
       "    <tr>\n",
       "      <th>5</th>\n",
       "      <td>\"send save\"</td>\n",
       "      <td>Deep Daze</td>\n",
       "      <td>257.0</td>\n",
       "      <td>0.0</td>\n",
       "      <td>2018-02-20 00:30:00</td>\n",
       "      <td>24.0</td>\n",
       "      <td>1</td>\n",
       "    </tr>\n",
       "    <tr>\n",
       "      <th>6</th>\n",
       "      <td>\"monkey eating banana\"</td>\n",
       "      <td>Deep Daze</td>\n",
       "      <td>256.0</td>\n",
       "      <td>0.0</td>\n",
       "      <td>2018-02-20 00:49:26</td>\n",
       "      <td>24.0</td>\n",
       "      <td>5</td>\n",
       "    </tr>\n",
       "    <tr>\n",
       "      <th>7</th>\n",
       "      <td>\"rock lee linkin park</td>\n",
       "      <td>Deep Daze</td>\n",
       "      <td>179.0</td>\n",
       "      <td>0.0</td>\n",
       "      <td>2018-02-20 00:36:11</td>\n",
       "      <td>24.0</td>\n",
       "      <td>3</td>\n",
       "    </tr>\n",
       "    <tr>\n",
       "      <th>8</th>\n",
       "      <td>\"travis scott in fortnite\"</td>\n",
       "      <td>Deep Daze</td>\n",
       "      <td>121.0</td>\n",
       "      <td>0.0</td>\n",
       "      <td>2018-02-20 00:24:48</td>\n",
       "      <td>24.0</td>\n",
       "      <td>1</td>\n",
       "    </tr>\n",
       "    <tr>\n",
       "      <th>9</th>\n",
       "      <td>\"liliana of the veil\"</td>\n",
       "      <td>Deep Daze</td>\n",
       "      <td>202.0</td>\n",
       "      <td>0.0</td>\n",
       "      <td>2018-02-20 00:41:00</td>\n",
       "      <td>24.0</td>\n",
       "      <td>4</td>\n",
       "    </tr>\n",
       "    <tr>\n",
       "      <th>10</th>\n",
       "      <td>\"emmys biggest loser\"</td>\n",
       "      <td>Deep Daze</td>\n",
       "      <td>203.0</td>\n",
       "      <td>0.0</td>\n",
       "      <td>2018-02-20 00:41:10</td>\n",
       "      <td>24.0</td>\n",
       "      <td>2</td>\n",
       "    </tr>\n",
       "    <tr>\n",
       "      <th>11</th>\n",
       "      <td>\"bear finding honey\"</td>\n",
       "      <td>Deep Daze</td>\n",
       "      <td>144.0</td>\n",
       "      <td>0.0</td>\n",
       "      <td>2018-02-20 00:29:14</td>\n",
       "      <td>24.0</td>\n",
       "      <td>4</td>\n",
       "    </tr>\n",
       "    <tr>\n",
       "      <th>12</th>\n",
       "      <td>\"fox\"</td>\n",
       "      <td>Deep Daze</td>\n",
       "      <td>420.0</td>\n",
       "      <td>NaN</td>\n",
       "      <td>2018-02-20 03:00:00</td>\n",
       "      <td>32.0</td>\n",
       "      <td>3</td>\n",
       "    </tr>\n",
       "    <tr>\n",
       "      <th>13</th>\n",
       "      <td>\"castle by van gogh\"</td>\n",
       "      <td>Feed Forward / VQGAN</td>\n",
       "      <td>NaN</td>\n",
       "      <td>NaN</td>\n",
       "      <td>2018-02-20 00:15:00</td>\n",
       "      <td>NaN</td>\n",
       "      <td>5</td>\n",
       "    </tr>\n",
       "    <tr>\n",
       "      <th>14</th>\n",
       "      <td>\"fox\"</td>\n",
       "      <td>VQGAN + CLIP</td>\n",
       "      <td>NaN</td>\n",
       "      <td>NaN</td>\n",
       "      <td>2018-02-20 04:00:00</td>\n",
       "      <td>NaN</td>\n",
       "      <td>2</td>\n",
       "    </tr>\n",
       "    <tr>\n",
       "      <th>15</th>\n",
       "      <td>\"sunrise downtown\"</td>\n",
       "      <td>VQGAN + CLIP</td>\n",
       "      <td>NaN</td>\n",
       "      <td>NaN</td>\n",
       "      <td>2018-02-20 05:00:00</td>\n",
       "      <td>NaN</td>\n",
       "      <td>4</td>\n",
       "    </tr>\n",
       "    <tr>\n",
       "      <th>16</th>\n",
       "      <td>\"giraffe\"</td>\n",
       "      <td>VQGAN + CLIP</td>\n",
       "      <td>7000.0</td>\n",
       "      <td>NaN</td>\n",
       "      <td>2018-02-20 05:00:00</td>\n",
       "      <td>NaN</td>\n",
       "      <td>2</td>\n",
       "    </tr>\n",
       "  </tbody>\n",
       "</table>\n",
       "</div>"
      ],
      "text/plain": [
       "                     Text Input                 Model  No. of Iterations  \\\n",
       "0                  \"brazil 7-1\"             Big Sleep              417.0   \n",
       "1               \"seal swimming\"             Big Sleep              634.0   \n",
       "2   \"jake paul vs tyron woodley             Big Sleep              397.0   \n",
       "3   \"cristiano ronaldo dancing\"             Deep Daze              542.0   \n",
       "4          \"a samurai training\"             Deep Daze              121.0   \n",
       "5                   \"send save\"             Deep Daze              257.0   \n",
       "6        \"monkey eating banana\"             Deep Daze              256.0   \n",
       "7         \"rock lee linkin park             Deep Daze              179.0   \n",
       "8    \"travis scott in fortnite\"             Deep Daze              121.0   \n",
       "9         \"liliana of the veil\"             Deep Daze              202.0   \n",
       "10        \"emmys biggest loser\"             Deep Daze              203.0   \n",
       "11         \"bear finding honey\"             Deep Daze              144.0   \n",
       "12                        \"fox\"             Deep Daze              420.0   \n",
       "13         \"castle by van gogh\"  Feed Forward / VQGAN                NaN   \n",
       "14                        \"fox\"          VQGAN + CLIP                NaN   \n",
       "15           \"sunrise downtown\"          VQGAN + CLIP                NaN   \n",
       "16                    \"giraffe\"          VQGAN + CLIP             7000.0   \n",
       "\n",
       "    No. of Epochs      Execution Time  No. of Layers  Result  \n",
       "0             NaN 2018-02-20 00:41:45            NaN       1  \n",
       "1             NaN 2018-02-20 01:02:45            NaN       3  \n",
       "2             NaN 2018-02-20 00:39:16            NaN       1  \n",
       "3             0.0 2018-02-20 02:24:10           32.0       2  \n",
       "4             0.0 2018-02-20 00:24:38           24.0       4  \n",
       "5             0.0 2018-02-20 00:30:00           24.0       1  \n",
       "6             0.0 2018-02-20 00:49:26           24.0       5  \n",
       "7             0.0 2018-02-20 00:36:11           24.0       3  \n",
       "8             0.0 2018-02-20 00:24:48           24.0       1  \n",
       "9             0.0 2018-02-20 00:41:00           24.0       4  \n",
       "10            0.0 2018-02-20 00:41:10           24.0       2  \n",
       "11            0.0 2018-02-20 00:29:14           24.0       4  \n",
       "12            NaN 2018-02-20 03:00:00           32.0       3  \n",
       "13            NaN 2018-02-20 00:15:00            NaN       5  \n",
       "14            NaN 2018-02-20 04:00:00            NaN       2  \n",
       "15            NaN 2018-02-20 05:00:00            NaN       4  \n",
       "16            NaN 2018-02-20 05:00:00            NaN       2  "
      ]
     },
     "execution_count": 4,
     "metadata": {},
     "output_type": "execute_result"
    }
   ],
   "source": [
    "df"
   ]
  },
  {
   "cell_type": "markdown",
   "id": "2d0070a0",
   "metadata": {},
   "source": [
    "# Declaração dos modelos"
   ]
  },
  {
   "cell_type": "markdown",
   "id": "2d541fca",
   "metadata": {},
   "source": [
    "Armazenamos os nomes dos modelos em uma string, para facilitar a manipulação:"
   ]
  },
  {
   "cell_type": "code",
   "execution_count": 5,
   "id": "c1d83f3d",
   "metadata": {},
   "outputs": [],
   "source": [
    "uniqueValues = ['Big Sleep', 'Deep Daze', 'VQGAN + CLIP']"
   ]
  },
  {
   "cell_type": "markdown",
   "id": "b30cff5c",
   "metadata": {},
   "source": [
    "# Cálculos para análise"
   ]
  },
  {
   "cell_type": "markdown",
   "id": "6c043272",
   "metadata": {},
   "source": [
    "Abaixo, criamos três variáveis para armazenarmos a média da quantidade de iterações, para cada tipo de modelo e armazenamos em uma lista:"
   ]
  },
  {
   "cell_type": "code",
   "execution_count": 6,
   "id": "7b3bac59",
   "metadata": {},
   "outputs": [],
   "source": [
    "average_iter_bs = (df['No. of Iterations'][df['Model'] == 'Big Sleep'].mean())\n",
    "average_iter_dd = (df['No. of Iterations'][df['Model'] == 'Deep Daze'].mean())\n",
    "average_iter_vc = (df['No. of Iterations'][df['Model'] == 'VQGAN + CLIP'].mean())"
   ]
  },
  {
   "cell_type": "code",
   "execution_count": 7,
   "id": "4353e8c3",
   "metadata": {},
   "outputs": [],
   "source": [
    "average_iter = [average_iter_bs, average_iter_dd, average_iter_vc]"
   ]
  },
  {
   "cell_type": "code",
   "execution_count": 8,
   "id": "091d713d",
   "metadata": {},
   "outputs": [
    {
     "data": {
      "text/plain": [
       "[482.6666666666667, 244.5, 7000.0]"
      ]
     },
     "execution_count": 8,
     "metadata": {},
     "output_type": "execute_result"
    }
   ],
   "source": [
    "average_iter"
   ]
  },
  {
   "cell_type": "code",
   "execution_count": 9,
   "id": "a3f54bcf",
   "metadata": {},
   "outputs": [],
   "source": [
    "average_grade_bs = (df['Result'][df['Model'] == 'Big Sleep'].mean())\n",
    "average_grade_dd = (df['Result'][df['Model'] == 'Deep Daze'].mean())\n",
    "average_grade_vc = (df['Result'][df['Model'] == 'VQGAN + CLIP'].mean())"
   ]
  },
  {
   "cell_type": "code",
   "execution_count": 10,
   "id": "b4dbe3f3",
   "metadata": {},
   "outputs": [],
   "source": [
    "average_grade = [average_grade_bs, average_grade_dd, average_grade_vc]"
   ]
  },
  {
   "cell_type": "code",
   "execution_count": 11,
   "id": "be5d9dcc",
   "metadata": {},
   "outputs": [
    {
     "data": {
      "text/plain": [
       "[1.6666666666666667, 2.9, 2.6666666666666665]"
      ]
     },
     "execution_count": 11,
     "metadata": {},
     "output_type": "execute_result"
    }
   ],
   "source": [
    "average_grade"
   ]
  },
  {
   "cell_type": "markdown",
   "id": "c4fafac1",
   "metadata": {},
   "source": [
    "Com a mesma lógica, armazenamos a média do tempo de execução, para cada tipo de modelo. Em seguida, armazenamos este em uma lista e verificamos a integridade das operações feitas:"
   ]
  },
  {
   "cell_type": "code",
   "execution_count": 12,
   "id": "1cb39944",
   "metadata": {},
   "outputs": [],
   "source": [
    "average_exec_bs = (df['Execution Time'][df['Model'] == 'Big Sleep'].mean())\n",
    "average_exec_dd = (df['Execution Time'][df['Model'] == 'Deep Daze'].mean())\n",
    "average_exec_vc = (df['Execution Time'][df['Model'] == 'VQGAN + CLIP'].mean())"
   ]
  },
  {
   "cell_type": "code",
   "execution_count": 13,
   "id": "002baff4",
   "metadata": {},
   "outputs": [],
   "source": [
    "average_exec = [average_exec_bs, average_exec_dd, average_exec_vc]"
   ]
  },
  {
   "cell_type": "code",
   "execution_count": 14,
   "id": "94e3da04",
   "metadata": {},
   "outputs": [
    {
     "data": {
      "text/plain": [
       "[Timestamp('2018-02-20 00:47:55.333333248'),\n",
       " Timestamp('2018-02-20 01:00:03.700000'),\n",
       " Timestamp('2018-02-20 04:40:00')]"
      ]
     },
     "execution_count": 14,
     "metadata": {},
     "output_type": "execute_result"
    }
   ],
   "source": [
    "average_exec"
   ]
  },
  {
   "cell_type": "markdown",
   "id": "87984955",
   "metadata": {},
   "source": [
    "Em seguida, transformamos os tipos timestamp em números, representados em segundos. Após esta operação, transformamos de segundo para minuto e armazenamos os valores em uma lista e conferimos a integridade das operações:"
   ]
  },
  {
   "cell_type": "code",
   "execution_count": 15,
   "id": "a6e6fbfb",
   "metadata": {},
   "outputs": [],
   "source": [
    "for i in range(3):\n",
    "    if i == 0:\n",
    "        seconds_dd = (average_exec[i].hour * 60 + average_exec[i].minute) * 60 + average_exec[i].second\n",
    "    if i == 1:\n",
    "        seconds_bs = (average_exec[i].hour * 60 + average_exec[i].minute) * 60 + average_exec[i].second\n",
    "    if i == 2:\n",
    "        seconds_vc = (average_exec[i].hour * 60 + average_exec[i].minute) * 60 + average_exec[i].second"
   ]
  },
  {
   "cell_type": "code",
   "execution_count": 16,
   "id": "ecd37d9c",
   "metadata": {},
   "outputs": [],
   "source": [
    "average_exec_time = [(seconds_dd)/60, (seconds_bs)/60, (seconds_vc)/60]"
   ]
  },
  {
   "cell_type": "code",
   "execution_count": 17,
   "id": "e134cbb7",
   "metadata": {},
   "outputs": [
    {
     "data": {
      "text/plain": [
       "[47.916666666666664, 60.05, 280.0]"
      ]
     },
     "execution_count": 17,
     "metadata": {},
     "output_type": "execute_result"
    }
   ],
   "source": [
    "average_exec_time"
   ]
  },
  {
   "cell_type": "markdown",
   "id": "cd35555d",
   "metadata": {},
   "source": [
    "# Plots"
   ]
  },
  {
   "cell_type": "markdown",
   "id": "4cdc574e",
   "metadata": {},
   "source": [
    "O primeiro plot indica a média das iterações de cada modelo:"
   ]
  },
  {
   "cell_type": "code",
   "execution_count": 18,
   "id": "8fed9447",
   "metadata": {},
   "outputs": [
    {
     "data": {
      "image/png": "[encoded data removed]",
      "text/plain": [
       "<Figure size 432x288 with 1 Axes>"
      ]
     },
     "metadata": {
      "needs_background": "light"
     },
     "output_type": "display_data"
    }
   ],
   "source": [
    "fig, ax = plt.subplots()\n",
    "ax.set_ylabel('No. of Iterations')\n",
    "ax.set_title('Average Iterations')\n",
    "plt.bar(uniqueValues, average_iter);"
   ]
  },
  {
   "cell_type": "markdown",
   "id": "be87b438",
   "metadata": {},
   "source": [
    "E o segundo indica a média do tempo de execução de cada modelo:"
   ]
  },
  {
   "cell_type": "code",
   "execution_count": 19,
   "id": "731d6810",
   "metadata": {},
   "outputs": [
    {
     "data": {
      "image/png": "[encoded data removed]",
      "text/plain": [
       "<Figure size 432x288 with 1 Axes>"
      ]
     },
     "metadata": {
      "needs_background": "light"
     },
     "output_type": "display_data"
    }
   ],
   "source": [
    "fig, ax = plt.subplots()\n",
    "ax.set_ylabel('Time (in minutes)')\n",
    "ax.set_title('Average Execution Time')\n",
    "plt.bar(uniqueValues, average_exec_time);"
   ]
  },
  {
   "cell_type": "markdown",
   "id": "afe7e4c0",
   "metadata": {},
   "source": [
    "E o terceiro indica a média da qualidade (avaliada pelos integrantes), de 1 a 5, da imagem gerada pelos modelos:"
   ]
  },
  {
   "cell_type": "code",
   "execution_count": 20,
   "id": "9c1ea3a3",
   "metadata": {},
   "outputs": [
    {
     "data": {
      "image/png": "[encoded data removed]",
      "text/plain": [
       "<Figure size 432x288 with 1 Axes>"
      ]
     },
     "metadata": {
      "needs_background": "light"
     },
     "output_type": "display_data"
    }
   ],
   "source": [
    "fig, ax = plt.subplots()\n",
    "ax.set_ylabel('Grade (1 to 5)')\n",
    "ax.set_title('Average Grade of Resulted Images')\n",
    "plt.bar(uniqueValues, average_grade);"
   ]
  }
 ],
 "metadata": {
  "kernelspec": {
   "display_name": "Python 3",
   "language": "python",
   "name": "python3"
  },
  "language_info": {
   "codemirror_mode": {
    "name": "ipython",
    "version": 3
   },
   "file_extension": ".py",
   "mimetype": "text/x-python",
   "name": "python",
   "nbconvert_exporter": "python",
   "pygments_lexer": "ipython3",
   "version": "3.8.8"
  }
 },
 "nbformat": 4,
 "nbformat_minor": 5
}
