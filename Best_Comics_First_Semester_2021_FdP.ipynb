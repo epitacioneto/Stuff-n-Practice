{
  "nbformat": 4,
  "nbformat_minor": 0,
  "metadata": {
    "colab": {
      "name": "Best-Comics-First-Semester-2021-FdP.ipynb",
      "provenance": [],
      "collapsed_sections": []
    },
    "kernelspec": {
      "name": "python3",
      "display_name": "Python 3"
    },
    "language_info": {
      "name": "python"
    }
  },
  "cells": [
    {
      "cell_type": "markdown",
      "metadata": {
        "id": "tIzpigakWaaJ"
      },
      "source": [
        "# Bibliotecas"
      ]
    },
    {
      "cell_type": "code",
      "metadata": {
        "id": "H650nYm0i09b"
      },
      "source": [
        "import pandas as pd\n",
        "import numpy as np\n",
        "import seaborn as sns\n",
        "import matplotlib.pyplot as plt"
      ],
      "execution_count": 1,
      "outputs": []
    },
    {
      "cell_type": "markdown",
      "metadata": {
        "id": "p9_w_yx6WaXT"
      },
      "source": [
        "# Funções"
      ]
    },
    {
      "cell_type": "code",
      "metadata": {
        "id": "gLNAzlBhTUPU"
      },
      "source": [
        "def weight_first(score, count):\n",
        "  score += (count*5)\n",
        "  return score\n",
        "\n",
        "def weight_second(score, count):\n",
        "  score += (count*4)\n",
        "  return score\n",
        "\n",
        "def weight_third(score, count):\n",
        "  score += (count*3)\n",
        "  return score\n",
        "\n",
        "def weight_fourth(score, count):\n",
        "  score += (count*2)\n",
        "  return score\n",
        "\n",
        "def weight_fifth(score, count):\n",
        "  score += (count*1)\n",
        "  return score"
      ],
      "execution_count": 2,
      "outputs": []
    },
    {
      "cell_type": "markdown",
      "metadata": {
        "id": "POC8e6h-WhSD"
      },
      "source": [
        "# Código"
      ]
    },
    {
      "cell_type": "code",
      "metadata": {
        "colab": {
          "base_uri": "https://localhost:8080/",
          "height": 80
        },
        "id": "hj8BqTyG2Z7r",
        "outputId": "92370916-e006-4fb3-92c8-3e3a3c882b78"
      },
      "source": [
        "data = [['miranha', 'xismen', 'colin', 'skript copiou', 'shonen de lutinha']]\n",
        "\n",
        "df = pd.DataFrame(data, columns=['Primeiro', 'Segundo', 'Terceiro', 'Quarto', 'Quinto'])\n",
        "df"
      ],
      "execution_count": 3,
      "outputs": [
        {
          "output_type": "execute_result",
          "data": {
            "text/html": [
              "<div>\n",
              "<style scoped>\n",
              "    .dataframe tbody tr th:only-of-type {\n",
              "        vertical-align: middle;\n",
              "    }\n",
              "\n",
              "    .dataframe tbody tr th {\n",
              "        vertical-align: top;\n",
              "    }\n",
              "\n",
              "    .dataframe thead th {\n",
              "        text-align: right;\n",
              "    }\n",
              "</style>\n",
              "<table border=\"1\" class=\"dataframe\">\n",
              "  <thead>\n",
              "    <tr style=\"text-align: right;\">\n",
              "      <th></th>\n",
              "      <th>Primeiro</th>\n",
              "      <th>Segundo</th>\n",
              "      <th>Terceiro</th>\n",
              "      <th>Quarto</th>\n",
              "      <th>Quinto</th>\n",
              "    </tr>\n",
              "  </thead>\n",
              "  <tbody>\n",
              "    <tr>\n",
              "      <th>0</th>\n",
              "      <td>miranha</td>\n",
              "      <td>xismen</td>\n",
              "      <td>colin</td>\n",
              "      <td>skript copiou</td>\n",
              "      <td>shonen de lutinha</td>\n",
              "    </tr>\n",
              "  </tbody>\n",
              "</table>\n",
              "</div>"
            ],
            "text/plain": [
              "  Primeiro Segundo Terceiro         Quarto             Quinto\n",
              "0  miranha  xismen    colin  skript copiou  shonen de lutinha"
            ]
          },
          "metadata": {},
          "execution_count": 3
        }
      ]
    },
    {
      "cell_type": "code",
      "metadata": {
        "id": "P-bDzt5B10bA"
      },
      "source": [
        "#excel_file = 'movies.xls'\n",
        "#df = pd.read_excel(excel_file)"
      ],
      "execution_count": 4,
      "outputs": []
    },
    {
      "cell_type": "markdown",
      "metadata": {
        "id": "6Qku-zJpWRvR"
      },
      "source": [
        "## Insira seu top 5 aqui!"
      ]
    },
    {
      "cell_type": "code",
      "metadata": {
        "id": "JnZ6SNCamOy1"
      },
      "source": [
        "df.loc[df.shape[0]] = ['colin', 'xismen', 'miranha', 'skript copiou', 'shonen de lutinha']"
      ],
      "execution_count": 5,
      "outputs": []
    },
    {
      "cell_type": "code",
      "metadata": {
        "colab": {
          "base_uri": "https://localhost:8080/"
        },
        "id": "nSzGDzH-4w1J",
        "outputId": "38ba3ea1-4166-4d93-de7c-b7a74bbc82c0"
      },
      "source": [
        "uniqueValues = (df['Primeiro'].append(df['Segundo'].append(df['Terceiro'].append(df['Quarto'].append(df['Quinto']))))).unique()\n",
        "print(uniqueValues)"
      ],
      "execution_count": 6,
      "outputs": [
        {
          "output_type": "stream",
          "text": [
            "['miranha' 'colin' 'xismen' 'skript copiou' 'shonen de lutinha']\n"
          ],
          "name": "stdout"
        }
      ]
    },
    {
      "cell_type": "code",
      "metadata": {
        "colab": {
          "base_uri": "https://localhost:8080/"
        },
        "id": "gppMMw9F6mww",
        "outputId": "ce9c80d4-ef41-4746-e8b3-733350202c99"
      },
      "source": [
        "uniqueValues"
      ],
      "execution_count": 7,
      "outputs": [
        {
          "output_type": "execute_result",
          "data": {
            "text/plain": [
              "array(['miranha', 'colin', 'xismen', 'skript copiou', 'shonen de lutinha'],\n",
              "      dtype=object)"
            ]
          },
          "metadata": {},
          "execution_count": 7
        }
      ]
    },
    {
      "cell_type": "code",
      "metadata": {
        "colab": {
          "base_uri": "https://localhost:8080/",
          "height": 204
        },
        "id": "RrVXHl9MwFW5",
        "outputId": "7746fcf4-fd3c-44fc-9fb7-8833cc497dea"
      },
      "source": [
        "df.apply(pd.Series.value_counts)"
      ],
      "execution_count": 8,
      "outputs": [
        {
          "output_type": "execute_result",
          "data": {
            "text/html": [
              "<div>\n",
              "<style scoped>\n",
              "    .dataframe tbody tr th:only-of-type {\n",
              "        vertical-align: middle;\n",
              "    }\n",
              "\n",
              "    .dataframe tbody tr th {\n",
              "        vertical-align: top;\n",
              "    }\n",
              "\n",
              "    .dataframe thead th {\n",
              "        text-align: right;\n",
              "    }\n",
              "</style>\n",
              "<table border=\"1\" class=\"dataframe\">\n",
              "  <thead>\n",
              "    <tr style=\"text-align: right;\">\n",
              "      <th></th>\n",
              "      <th>Primeiro</th>\n",
              "      <th>Segundo</th>\n",
              "      <th>Terceiro</th>\n",
              "      <th>Quarto</th>\n",
              "      <th>Quinto</th>\n",
              "    </tr>\n",
              "  </thead>\n",
              "  <tbody>\n",
              "    <tr>\n",
              "      <th>colin</th>\n",
              "      <td>1.0</td>\n",
              "      <td>NaN</td>\n",
              "      <td>1.0</td>\n",
              "      <td>NaN</td>\n",
              "      <td>NaN</td>\n",
              "    </tr>\n",
              "    <tr>\n",
              "      <th>miranha</th>\n",
              "      <td>1.0</td>\n",
              "      <td>NaN</td>\n",
              "      <td>1.0</td>\n",
              "      <td>NaN</td>\n",
              "      <td>NaN</td>\n",
              "    </tr>\n",
              "    <tr>\n",
              "      <th>shonen de lutinha</th>\n",
              "      <td>NaN</td>\n",
              "      <td>NaN</td>\n",
              "      <td>NaN</td>\n",
              "      <td>NaN</td>\n",
              "      <td>2.0</td>\n",
              "    </tr>\n",
              "    <tr>\n",
              "      <th>skript copiou</th>\n",
              "      <td>NaN</td>\n",
              "      <td>NaN</td>\n",
              "      <td>NaN</td>\n",
              "      <td>2.0</td>\n",
              "      <td>NaN</td>\n",
              "    </tr>\n",
              "    <tr>\n",
              "      <th>xismen</th>\n",
              "      <td>NaN</td>\n",
              "      <td>2.0</td>\n",
              "      <td>NaN</td>\n",
              "      <td>NaN</td>\n",
              "      <td>NaN</td>\n",
              "    </tr>\n",
              "  </tbody>\n",
              "</table>\n",
              "</div>"
            ],
            "text/plain": [
              "                   Primeiro  Segundo  Terceiro  Quarto  Quinto\n",
              "colin                   1.0      NaN       1.0     NaN     NaN\n",
              "miranha                 1.0      NaN       1.0     NaN     NaN\n",
              "shonen de lutinha       NaN      NaN       NaN     NaN     2.0\n",
              "skript copiou           NaN      NaN       NaN     2.0     NaN\n",
              "xismen                  NaN      2.0       NaN     NaN     NaN"
            ]
          },
          "metadata": {},
          "execution_count": 8
        }
      ]
    },
    {
      "cell_type": "code",
      "metadata": {
        "id": "Tzf607dC8K6X"
      },
      "source": [
        "df_results = pd.DataFrame(data=None, columns=['Titulos', 'Score'])"
      ],
      "execution_count": 9,
      "outputs": []
    },
    {
      "cell_type": "code",
      "metadata": {
        "id": "HSnwDk-Y9Ldu"
      },
      "source": [
        "for i in range(len(uniqueValues)):\n",
        "  df_results.loc[i] = [uniqueValues[i], 0]"
      ],
      "execution_count": 10,
      "outputs": []
    },
    {
      "cell_type": "code",
      "metadata": {
        "colab": {
          "base_uri": "https://localhost:8080/",
          "height": 204
        },
        "id": "9VDZlnf4B10T",
        "outputId": "cb8dff58-c974-4340-f0c1-a221d5b19adb"
      },
      "source": [
        "df_results"
      ],
      "execution_count": 11,
      "outputs": [
        {
          "output_type": "execute_result",
          "data": {
            "text/html": [
              "<div>\n",
              "<style scoped>\n",
              "    .dataframe tbody tr th:only-of-type {\n",
              "        vertical-align: middle;\n",
              "    }\n",
              "\n",
              "    .dataframe tbody tr th {\n",
              "        vertical-align: top;\n",
              "    }\n",
              "\n",
              "    .dataframe thead th {\n",
              "        text-align: right;\n",
              "    }\n",
              "</style>\n",
              "<table border=\"1\" class=\"dataframe\">\n",
              "  <thead>\n",
              "    <tr style=\"text-align: right;\">\n",
              "      <th></th>\n",
              "      <th>Titulos</th>\n",
              "      <th>Score</th>\n",
              "    </tr>\n",
              "  </thead>\n",
              "  <tbody>\n",
              "    <tr>\n",
              "      <th>0</th>\n",
              "      <td>miranha</td>\n",
              "      <td>0</td>\n",
              "    </tr>\n",
              "    <tr>\n",
              "      <th>1</th>\n",
              "      <td>colin</td>\n",
              "      <td>0</td>\n",
              "    </tr>\n",
              "    <tr>\n",
              "      <th>2</th>\n",
              "      <td>xismen</td>\n",
              "      <td>0</td>\n",
              "    </tr>\n",
              "    <tr>\n",
              "      <th>3</th>\n",
              "      <td>skript copiou</td>\n",
              "      <td>0</td>\n",
              "    </tr>\n",
              "    <tr>\n",
              "      <th>4</th>\n",
              "      <td>shonen de lutinha</td>\n",
              "      <td>0</td>\n",
              "    </tr>\n",
              "  </tbody>\n",
              "</table>\n",
              "</div>"
            ],
            "text/plain": [
              "             Titulos Score\n",
              "0            miranha     0\n",
              "1              colin     0\n",
              "2             xismen     0\n",
              "3      skript copiou     0\n",
              "4  shonen de lutinha     0"
            ]
          },
          "metadata": {},
          "execution_count": 11
        }
      ]
    },
    {
      "cell_type": "code",
      "metadata": {
        "id": "kwNiP4N1EGN8"
      },
      "source": [
        "for i in range(len(uniqueValues)):\n",
        "  score = 0\n",
        "  count = 0\n",
        "\n",
        "  count = np.count_nonzero(df['Primeiro']==uniqueValues[i])\n",
        "  score = weight_first(score, count)\n",
        "  df_results.loc[i, 'Score'] = score\n",
        "  count = 0\n",
        "\n",
        "  count = np.count_nonzero(df['Segundo']==uniqueValues[i])\n",
        "  score = weight_second(score, count)\n",
        "  df_results.loc[i, 'Score'] = score\n",
        "  count = 0\n",
        "\n",
        "  count = np.count_nonzero(df['Terceiro']==uniqueValues[i])\n",
        "  score = weight_third(score, count)\n",
        "  df_results.loc[i, 'Score'] = score\n",
        "  count = 0\n",
        "\n",
        "  count = np.count_nonzero(df['Quarto']==uniqueValues[i])\n",
        "  score = weight_fourth(score, count)\n",
        "  df_results.loc[i, 'Score'] = score\n",
        "  count = 0\n",
        "\n",
        "  count = np.count_nonzero(df['Quinto']==uniqueValues[i])\n",
        "  score = weight_fifth(score, count)\n",
        "  df_results.loc[i, 'Score'] = score"
      ],
      "execution_count": 12,
      "outputs": []
    },
    {
      "cell_type": "markdown",
      "metadata": {
        "id": "dbAAoNXfWlfV"
      },
      "source": [
        "# Gráficos"
      ]
    },
    {
      "cell_type": "code",
      "metadata": {
        "colab": {
          "base_uri": "https://localhost:8080/",
          "height": 513
        },
        "id": "RN96KFrRIWKG",
        "outputId": "46246c1c-0a02-4b8b-e3a4-7ea0a528014b"
      },
      "source": [
        "plt.figure(figsize=(15,8))\n",
        "ax = sns.barplot(x=\"Titulos\", y=\"Score\", data=df_results, palette=\"Blues_d\", order=df_results.sort_values('Score', ascending=False).Titulos).set_title('Mais Lidos do 1º Semestre 2021 FdP')\n",
        "plt.show()"
      ],
      "execution_count": 13,
      "outputs": [
        {
          "output_type": "display_data",
          "data": {
            "image/png": "[encoded data removed]",
            "text/plain": [
              "<Figure size 1080x576 with 1 Axes>"
            ]
          },
          "metadata": {
            "needs_background": "light"
          }
        }
      ]
    },
    {
      "cell_type": "code",
      "metadata": {
        "id": "1K31JRg9YKGE"
      },
      "source": [
        "df_pie = pd.DataFrame(data=None, columns=['Titulos', 'Occurance'])"
      ],
      "execution_count": 14,
      "outputs": []
    },
    {
      "cell_type": "code",
      "metadata": {
        "id": "X85Km17gYTy2"
      },
      "source": [
        "for i in range(len(uniqueValues)):\n",
        "  df_pie.loc[i] = [uniqueValues[i], 0]"
      ],
      "execution_count": 15,
      "outputs": []
    },
    {
      "cell_type": "code",
      "metadata": {
        "id": "xL7kAp57Xm6o"
      },
      "source": [
        "for i in range(len(uniqueValues)):\n",
        "  count = 0\n",
        "\n",
        "  count += np.count_nonzero(df['Primeiro']==uniqueValues[i])\n",
        "  count += np.count_nonzero(df['Segundo']==uniqueValues[i])\n",
        "  count += np.count_nonzero(df['Terceiro']==uniqueValues[i])\n",
        "  count += np.count_nonzero(df['Quarto']==uniqueValues[i])\n",
        "  count += np.count_nonzero(df['Quinto']==uniqueValues[i])\n",
        "  df_pie.loc[i, 'Occurance'] = count"
      ],
      "execution_count": 16,
      "outputs": []
    },
    {
      "cell_type": "code",
      "metadata": {
        "id": "uHi-lndj2FKD"
      },
      "source": [
        "df_pie.set_index('Titulos', inplace=True)"
      ],
      "execution_count": 17,
      "outputs": []
    },
    {
      "cell_type": "code",
      "metadata": {
        "colab": {
          "base_uri": "https://localhost:8080/",
          "height": 533
        },
        "id": "-WG_lYvDY7Gz",
        "outputId": "2f8a4acc-f21c-4a66-fa8d-fbc6ffbbde1d"
      },
      "source": [
        "plot = df_pie.plot.pie(y='Occurance', figsize=(9,12), autopct='%1.1f%%')"
      ],
      "execution_count": 18,
      "outputs": [
        {
          "output_type": "display_data",
          "data": {
            "image/png": "[encoded data removed]",
            "text/plain": [
              "<Figure size 648x864 with 1 Axes>"
            ]
          },
          "metadata": {}
        }
      ]
    },
    {
      "cell_type": "code",
      "metadata": {
        "colab": {
          "base_uri": "https://localhost:8080/",
          "height": 282
        },
        "id": "u1m-E9O83Z02",
        "outputId": "1047cb70-82fc-4307-d1a0-d4532ae83b68"
      },
      "source": [
        "df['Primeiro'].value_counts().sort_values(ascending=False).plot(kind = 'barh').set_title('Ocorrência do Titulo em 1º lugar')"
      ],
      "execution_count": 19,
      "outputs": [
        {
          "output_type": "execute_result",
          "data": {
            "text/plain": [
              "<matplotlib.axes._subplots.AxesSubplot at 0x7fe74937a690>"
            ]
          },
          "metadata": {},
          "execution_count": 19
        },
        {
          "output_type": "display_data",
          "data": {
            "image/png": "[encoded data removed]",
            "text/plain": [
              "<Figure size 432x288 with 1 Axes>"
            ]
          },
          "metadata": {
            "needs_background": "light"
          }
        }
      ]
    },
    {
      "cell_type": "code",
      "metadata": {
        "colab": {
          "base_uri": "https://localhost:8080/",
          "height": 282
        },
        "id": "KWfckDAr3moy",
        "outputId": "4e1159a3-0364-43fa-b400-0186ad311687"
      },
      "source": [
        "df['Segundo'].value_counts().sort_values(ascending=False).plot(kind = 'barh').set_title('Ocorrência do Titulo em 2º lugar')"
      ],
      "execution_count": 20,
      "outputs": [
        {
          "output_type": "execute_result",
          "data": {
            "text/plain": [
              "<matplotlib.axes._subplots.AxesSubplot at 0x7fe749f1af90>"
            ]
          },
          "metadata": {},
          "execution_count": 20
        },
        {
          "output_type": "display_data",
          "data": {
            "image/png": "[encoded data removed]",
            "text/plain": [
              "<Figure size 432x288 with 1 Axes>"
            ]
          },
          "metadata": {
            "needs_background": "light"
          }
        }
      ]
    },
    {
      "cell_type": "code",
      "metadata": {
        "colab": {
          "base_uri": "https://localhost:8080/",
          "height": 282
        },
        "id": "jxFnYQuw3m27",
        "outputId": "0a9c002b-4bff-41e2-e166-d8574974aaf9"
      },
      "source": [
        "df['Terceiro'].value_counts().sort_values(ascending=False).plot(kind = 'barh').set_title('Ocorrência do Titulo em 3º lugar')"
      ],
      "execution_count": 21,
      "outputs": [
        {
          "output_type": "execute_result",
          "data": {
            "text/plain": [
              "<matplotlib.axes._subplots.AxesSubplot at 0x7fe7492bf6d0>"
            ]
          },
          "metadata": {},
          "execution_count": 21
        },
        {
          "output_type": "display_data",
          "data": {
            "image/png": "[encoded data removed]",
            "text/plain": [
              "<Figure size 432x288 with 1 Axes>"
            ]
          },
          "metadata": {
            "needs_background": "light"
          }
        }
      ]
    },
    {
      "cell_type": "code",
      "metadata": {
        "colab": {
          "base_uri": "https://localhost:8080/",
          "height": 282
        },
        "id": "8A-75ETM3nEO",
        "outputId": "d10cdb9a-46fa-4705-c705-e4c888d82bf1"
      },
      "source": [
        "df['Quarto'].value_counts().sort_values(ascending=False).plot(kind = 'barh').set_title('Ocorrência do Titulo em 4º lugar')"
      ],
      "execution_count": 22,
      "outputs": [
        {
          "output_type": "execute_result",
          "data": {
            "text/plain": [
              "<matplotlib.axes._subplots.AxesSubplot at 0x7fe7492ac810>"
            ]
          },
          "metadata": {},
          "execution_count": 22
        },
        {
          "output_type": "display_data",
          "data": {
            "image/png": "[encoded data removed]",
            "text/plain": [
              "<Figure size 432x288 with 1 Axes>"
            ]
          },
          "metadata": {
            "needs_background": "light"
          }
        }
      ]
    },
    {
      "cell_type": "code",
      "metadata": {
        "colab": {
          "base_uri": "https://localhost:8080/",
          "height": 282
        },
        "id": "aLV_CvCu3nm9",
        "outputId": "721fa547-f22a-427d-d8be-4860c33a7f48"
      },
      "source": [
        "df['Quinto'].value_counts().sort_values(ascending=False).plot(kind = 'barh').set_title('Ocorrência do Titulo em 5º lugar')"
      ],
      "execution_count": 23,
      "outputs": [
        {
          "output_type": "execute_result",
          "data": {
            "text/plain": [
              "<matplotlib.axes._subplots.AxesSubplot at 0x7fe7492166d0>"
            ]
          },
          "metadata": {},
          "execution_count": 23
        },
        {
          "output_type": "display_data",
          "data": {
            "image/png": "[encoded data removed]",
            "text/plain": [
              "<Figure size 432x288 with 1 Axes>"
            ]
          },
          "metadata": {
            "needs_background": "light"
          }
        }
      ]
    }
  ]
}